{
 "cells": [
  {
   "cell_type": "code",
   "execution_count": 133,
   "id": "bcdc5d1c",
   "metadata": {},
   "outputs": [],
   "source": [
    "import nasdaqdatalink\n",
    "import pandas as pd\n",
    "import numpy as np\n",
    "import matplotlib.pyplot as plt\n",
    "from matplotlib import style\n",
    "from sklearn.linear_model import LinearRegression\n",
    "from sklearn.model_selection import train_test_split\n",
    "from sklearn.preprocessing import scale\n",
    "import matplotlib.dates\n",
    "import math\n",
    "import datetime"
   ]
  },
  {
   "cell_type": "code",
   "execution_count": 134,
   "id": "45d59e58",
   "metadata": {},
   "outputs": [],
   "source": [
    "style.use('ggplot') #for graphics"
   ]
  },
  {
   "cell_type": "code",
   "execution_count": 135,
   "id": "d16c8e19",
   "metadata": {},
   "outputs": [],
   "source": [
    "api_key = ('BQD6GUzE8KvxS_pgLJs2') #api key for Nasdaq data"
   ]
  },
  {
   "cell_type": "code",
   "execution_count": 136,
   "id": "f9ccd87e",
   "metadata": {},
   "outputs": [],
   "source": [
    "nasdaqdatalink.apiconfig = api_key"
   ]
  },
  {
   "cell_type": "code",
   "execution_count": 137,
   "id": "76712f48",
   "metadata": {},
   "outputs": [],
   "source": [
    "df = nasdaqdatalink.get('BITFINEX/BTCUSD') #bitcoin data from Nasdaq"
   ]
  },
  {
   "cell_type": "code",
   "execution_count": 138,
   "id": "b35a3b41",
   "metadata": {},
   "outputs": [
    {
     "data": {
      "text/html": [
       "<div>\n",
       "<style scoped>\n",
       "    .dataframe tbody tr th:only-of-type {\n",
       "        vertical-align: middle;\n",
       "    }\n",
       "\n",
       "    .dataframe tbody tr th {\n",
       "        vertical-align: top;\n",
       "    }\n",
       "\n",
       "    .dataframe thead th {\n",
       "        text-align: right;\n",
       "    }\n",
       "</style>\n",
       "<table border=\"1\" class=\"dataframe\">\n",
       "  <thead>\n",
       "    <tr style=\"text-align: right;\">\n",
       "      <th></th>\n",
       "      <th>High</th>\n",
       "      <th>Low</th>\n",
       "      <th>Mid</th>\n",
       "      <th>Last</th>\n",
       "      <th>Bid</th>\n",
       "      <th>Ask</th>\n",
       "      <th>Volume</th>\n",
       "    </tr>\n",
       "    <tr>\n",
       "      <th>Date</th>\n",
       "      <th></th>\n",
       "      <th></th>\n",
       "      <th></th>\n",
       "      <th></th>\n",
       "      <th></th>\n",
       "      <th></th>\n",
       "      <th></th>\n",
       "    </tr>\n",
       "  </thead>\n",
       "  <tbody>\n",
       "    <tr>\n",
       "      <th>2014-04-15</th>\n",
       "      <td>513.9000</td>\n",
       "      <td>452.00</td>\n",
       "      <td>504.23500</td>\n",
       "      <td>505.0000</td>\n",
       "      <td>503.5000</td>\n",
       "      <td>504.97</td>\n",
       "      <td>21013.584774</td>\n",
       "    </tr>\n",
       "    <tr>\n",
       "      <th>2014-04-16</th>\n",
       "      <td>547.0000</td>\n",
       "      <td>495.00</td>\n",
       "      <td>537.50000</td>\n",
       "      <td>538.0000</td>\n",
       "      <td>537.0000</td>\n",
       "      <td>538.00</td>\n",
       "      <td>29633.358705</td>\n",
       "    </tr>\n",
       "    <tr>\n",
       "      <th>2014-04-17</th>\n",
       "      <td>538.5000</td>\n",
       "      <td>486.10</td>\n",
       "      <td>507.02000</td>\n",
       "      <td>508.0000</td>\n",
       "      <td>506.0400</td>\n",
       "      <td>508.00</td>\n",
       "      <td>20709.783819</td>\n",
       "    </tr>\n",
       "    <tr>\n",
       "      <th>2014-04-18</th>\n",
       "      <td>509.0000</td>\n",
       "      <td>474.25</td>\n",
       "      <td>483.77000</td>\n",
       "      <td>482.7500</td>\n",
       "      <td>482.7500</td>\n",
       "      <td>484.79</td>\n",
       "      <td>10458.045243</td>\n",
       "    </tr>\n",
       "    <tr>\n",
       "      <th>2014-04-19</th>\n",
       "      <td>513.9899</td>\n",
       "      <td>473.83</td>\n",
       "      <td>505.01065</td>\n",
       "      <td>507.4999</td>\n",
       "      <td>502.5313</td>\n",
       "      <td>507.49</td>\n",
       "      <td>8963.618369</td>\n",
       "    </tr>\n",
       "  </tbody>\n",
       "</table>\n",
       "</div>"
      ],
      "text/plain": [
       "                High     Low        Mid      Last       Bid     Ask  \\\n",
       "Date                                                                  \n",
       "2014-04-15  513.9000  452.00  504.23500  505.0000  503.5000  504.97   \n",
       "2014-04-16  547.0000  495.00  537.50000  538.0000  537.0000  538.00   \n",
       "2014-04-17  538.5000  486.10  507.02000  508.0000  506.0400  508.00   \n",
       "2014-04-18  509.0000  474.25  483.77000  482.7500  482.7500  484.79   \n",
       "2014-04-19  513.9899  473.83  505.01065  507.4999  502.5313  507.49   \n",
       "\n",
       "                  Volume  \n",
       "Date                      \n",
       "2014-04-15  21013.584774  \n",
       "2014-04-16  29633.358705  \n",
       "2014-04-17  20709.783819  \n",
       "2014-04-18  10458.045243  \n",
       "2014-04-19   8963.618369  "
      ]
     },
     "execution_count": 138,
     "metadata": {},
     "output_type": "execute_result"
    }
   ],
   "source": [
    "df.head() #to show Nasdaq data table"
   ]
  },
  {
   "cell_type": "code",
   "execution_count": 139,
   "id": "e1250d44",
   "metadata": {},
   "outputs": [],
   "source": [
    "df.dropna(inplace = True) #to delete NAN variables of data"
   ]
  },
  {
   "cell_type": "code",
   "execution_count": 140,
   "id": "dbe9f2ab",
   "metadata": {},
   "outputs": [],
   "source": [
    "df['HL_PCT'] = (df['High'] - df['Low']) / df['Last'] * 100.0 #for produce parameter"
   ]
  },
  {
   "cell_type": "code",
   "execution_count": 141,
   "id": "0f689feb",
   "metadata": {},
   "outputs": [],
   "source": [
    "df['ASKBID_PCT'] = (df['Ask'] - df['Bid']) / df['Ask'] * 100.0 #for produce parameter"
   ]
  },
  {
   "cell_type": "code",
   "execution_count": 142,
   "id": "a54ba574",
   "metadata": {},
   "outputs": [],
   "source": [
    "df = df[['High', 'Low', 'Last', 'HL_PCT', 'ASKBID_PCT', 'Volume']]"
   ]
  },
  {
   "cell_type": "code",
   "execution_count": 143,
   "id": "c0658a9c",
   "metadata": {},
   "outputs": [
    {
     "data": {
      "text/html": [
       "<div>\n",
       "<style scoped>\n",
       "    .dataframe tbody tr th:only-of-type {\n",
       "        vertical-align: middle;\n",
       "    }\n",
       "\n",
       "    .dataframe tbody tr th {\n",
       "        vertical-align: top;\n",
       "    }\n",
       "\n",
       "    .dataframe thead th {\n",
       "        text-align: right;\n",
       "    }\n",
       "</style>\n",
       "<table border=\"1\" class=\"dataframe\">\n",
       "  <thead>\n",
       "    <tr style=\"text-align: right;\">\n",
       "      <th></th>\n",
       "      <th>High</th>\n",
       "      <th>Low</th>\n",
       "      <th>Last</th>\n",
       "      <th>HL_PCT</th>\n",
       "      <th>ASKBID_PCT</th>\n",
       "      <th>Volume</th>\n",
       "    </tr>\n",
       "    <tr>\n",
       "      <th>Date</th>\n",
       "      <th></th>\n",
       "      <th></th>\n",
       "      <th></th>\n",
       "      <th></th>\n",
       "      <th></th>\n",
       "      <th></th>\n",
       "    </tr>\n",
       "  </thead>\n",
       "  <tbody>\n",
       "    <tr>\n",
       "      <th>2014-04-15</th>\n",
       "      <td>513.9000</td>\n",
       "      <td>452.00</td>\n",
       "      <td>505.0000</td>\n",
       "      <td>12.257426</td>\n",
       "      <td>0.291106</td>\n",
       "      <td>21013.584774</td>\n",
       "    </tr>\n",
       "    <tr>\n",
       "      <th>2014-04-16</th>\n",
       "      <td>547.0000</td>\n",
       "      <td>495.00</td>\n",
       "      <td>538.0000</td>\n",
       "      <td>9.665428</td>\n",
       "      <td>0.185874</td>\n",
       "      <td>29633.358705</td>\n",
       "    </tr>\n",
       "    <tr>\n",
       "      <th>2014-04-17</th>\n",
       "      <td>538.5000</td>\n",
       "      <td>486.10</td>\n",
       "      <td>508.0000</td>\n",
       "      <td>10.314961</td>\n",
       "      <td>0.385827</td>\n",
       "      <td>20709.783819</td>\n",
       "    </tr>\n",
       "    <tr>\n",
       "      <th>2014-04-18</th>\n",
       "      <td>509.0000</td>\n",
       "      <td>474.25</td>\n",
       "      <td>482.7500</td>\n",
       "      <td>7.198343</td>\n",
       "      <td>0.420801</td>\n",
       "      <td>10458.045243</td>\n",
       "    </tr>\n",
       "    <tr>\n",
       "      <th>2014-04-19</th>\n",
       "      <td>513.9899</td>\n",
       "      <td>473.83</td>\n",
       "      <td>507.4999</td>\n",
       "      <td>7.913282</td>\n",
       "      <td>0.977103</td>\n",
       "      <td>8963.618369</td>\n",
       "    </tr>\n",
       "  </tbody>\n",
       "</table>\n",
       "</div>"
      ],
      "text/plain": [
       "                High     Low      Last     HL_PCT  ASKBID_PCT        Volume\n",
       "Date                                                                       \n",
       "2014-04-15  513.9000  452.00  505.0000  12.257426    0.291106  21013.584774\n",
       "2014-04-16  547.0000  495.00  538.0000   9.665428    0.185874  29633.358705\n",
       "2014-04-17  538.5000  486.10  508.0000  10.314961    0.385827  20709.783819\n",
       "2014-04-18  509.0000  474.25  482.7500   7.198343    0.420801  10458.045243\n",
       "2014-04-19  513.9899  473.83  507.4999   7.913282    0.977103   8963.618369"
      ]
     },
     "execution_count": 143,
     "metadata": {},
     "output_type": "execute_result"
    }
   ],
   "source": [
    "df.head()"
   ]
  },
  {
   "cell_type": "code",
   "execution_count": 144,
   "id": "59ba138f",
   "metadata": {},
   "outputs": [],
   "source": [
    "forecast_out = int(math.ceil(len(df) * 0.01)) #multiply the length of the rows by 1% and round the dataframe up"
   ]
  },
  {
   "cell_type": "code",
   "execution_count": 145,
   "id": "e1e21337",
   "metadata": {},
   "outputs": [],
   "source": [
    "df['Label'] = df['Last'].shift(-forecast_out) #forecast_out value is moved up to assume today's value as the last days value"
   ]
  },
  {
   "cell_type": "code",
   "execution_count": 146,
   "id": "6dc4d8b1",
   "metadata": {},
   "outputs": [],
   "source": [
    "x = df.drop(columns = 'Label') #x row of linear regression"
   ]
  },
  {
   "cell_type": "code",
   "execution_count": 147,
   "id": "9793623b",
   "metadata": {},
   "outputs": [],
   "source": [
    "y = df.iloc[:, -1] # y row of linear regression"
   ]
  },
  {
   "cell_type": "code",
   "execution_count": 148,
   "id": "1d9277af",
   "metadata": {},
   "outputs": [],
   "source": [
    "x_toPredict = x[-forecast_out:]"
   ]
  },
  {
   "cell_type": "code",
   "execution_count": 149,
   "id": "bf202a05",
   "metadata": {},
   "outputs": [],
   "source": [
    "x = x[:-forecast_out]"
   ]
  },
  {
   "cell_type": "code",
   "execution_count": 150,
   "id": "bcc2aa0f",
   "metadata": {},
   "outputs": [],
   "source": [
    "y = y[:-forecast_out]"
   ]
  },
  {
   "cell_type": "code",
   "execution_count": 151,
   "id": "b42b675d",
   "metadata": {},
   "outputs": [],
   "source": [
    "x_train, x_test, y_train, y_test = train_test_split(x, y, train_size = 0.8, random_state = 0) # 80% of data used for train and 20% data used for test"
   ]
  },
  {
   "cell_type": "code",
   "execution_count": 152,
   "id": "001825dc",
   "metadata": {},
   "outputs": [],
   "source": [
    "regressor = LinearRegression() #called lienar regression algorithm"
   ]
  },
  {
   "cell_type": "code",
   "execution_count": 153,
   "id": "6d3922d3",
   "metadata": {},
   "outputs": [
    {
     "data": {
      "text/html": [
       "<style>#sk-container-id-2 {color: black;background-color: white;}#sk-container-id-2 pre{padding: 0;}#sk-container-id-2 div.sk-toggleable {background-color: white;}#sk-container-id-2 label.sk-toggleable__label {cursor: pointer;display: block;width: 100%;margin-bottom: 0;padding: 0.3em;box-sizing: border-box;text-align: center;}#sk-container-id-2 label.sk-toggleable__label-arrow:before {content: \"▸\";float: left;margin-right: 0.25em;color: #696969;}#sk-container-id-2 label.sk-toggleable__label-arrow:hover:before {color: black;}#sk-container-id-2 div.sk-estimator:hover label.sk-toggleable__label-arrow:before {color: black;}#sk-container-id-2 div.sk-toggleable__content {max-height: 0;max-width: 0;overflow: hidden;text-align: left;background-color: #f0f8ff;}#sk-container-id-2 div.sk-toggleable__content pre {margin: 0.2em;color: black;border-radius: 0.25em;background-color: #f0f8ff;}#sk-container-id-2 input.sk-toggleable__control:checked~div.sk-toggleable__content {max-height: 200px;max-width: 100%;overflow: auto;}#sk-container-id-2 input.sk-toggleable__control:checked~label.sk-toggleable__label-arrow:before {content: \"▾\";}#sk-container-id-2 div.sk-estimator input.sk-toggleable__control:checked~label.sk-toggleable__label {background-color: #d4ebff;}#sk-container-id-2 div.sk-label input.sk-toggleable__control:checked~label.sk-toggleable__label {background-color: #d4ebff;}#sk-container-id-2 input.sk-hidden--visually {border: 0;clip: rect(1px 1px 1px 1px);clip: rect(1px, 1px, 1px, 1px);height: 1px;margin: -1px;overflow: hidden;padding: 0;position: absolute;width: 1px;}#sk-container-id-2 div.sk-estimator {font-family: monospace;background-color: #f0f8ff;border: 1px dotted black;border-radius: 0.25em;box-sizing: border-box;margin-bottom: 0.5em;}#sk-container-id-2 div.sk-estimator:hover {background-color: #d4ebff;}#sk-container-id-2 div.sk-parallel-item::after {content: \"\";width: 100%;border-bottom: 1px solid gray;flex-grow: 1;}#sk-container-id-2 div.sk-label:hover label.sk-toggleable__label {background-color: #d4ebff;}#sk-container-id-2 div.sk-serial::before {content: \"\";position: absolute;border-left: 1px solid gray;box-sizing: border-box;top: 0;bottom: 0;left: 50%;z-index: 0;}#sk-container-id-2 div.sk-serial {display: flex;flex-direction: column;align-items: center;background-color: white;padding-right: 0.2em;padding-left: 0.2em;position: relative;}#sk-container-id-2 div.sk-item {position: relative;z-index: 1;}#sk-container-id-2 div.sk-parallel {display: flex;align-items: stretch;justify-content: center;background-color: white;position: relative;}#sk-container-id-2 div.sk-item::before, #sk-container-id-2 div.sk-parallel-item::before {content: \"\";position: absolute;border-left: 1px solid gray;box-sizing: border-box;top: 0;bottom: 0;left: 50%;z-index: -1;}#sk-container-id-2 div.sk-parallel-item {display: flex;flex-direction: column;z-index: 1;position: relative;background-color: white;}#sk-container-id-2 div.sk-parallel-item:first-child::after {align-self: flex-end;width: 50%;}#sk-container-id-2 div.sk-parallel-item:last-child::after {align-self: flex-start;width: 50%;}#sk-container-id-2 div.sk-parallel-item:only-child::after {width: 0;}#sk-container-id-2 div.sk-dashed-wrapped {border: 1px dashed gray;margin: 0 0.4em 0.5em 0.4em;box-sizing: border-box;padding-bottom: 0.4em;background-color: white;}#sk-container-id-2 div.sk-label label {font-family: monospace;font-weight: bold;display: inline-block;line-height: 1.2em;}#sk-container-id-2 div.sk-label-container {text-align: center;}#sk-container-id-2 div.sk-container {/* jupyter's `normalize.less` sets `[hidden] { display: none; }` but bootstrap.min.css set `[hidden] { display: none !important; }` so we also need the `!important` here to be able to override the default hidden behavior on the sphinx rendered scikit-learn.org. See: https://github.com/scikit-learn/scikit-learn/issues/21755 */display: inline-block !important;position: relative;}#sk-container-id-2 div.sk-text-repr-fallback {display: none;}</style><div id=\"sk-container-id-2\" class=\"sk-top-container\"><div class=\"sk-text-repr-fallback\"><pre>LinearRegression()</pre><b>In a Jupyter environment, please rerun this cell to show the HTML representation or trust the notebook. <br />On GitHub, the HTML representation is unable to render, please try loading this page with nbviewer.org.</b></div><div class=\"sk-container\" hidden><div class=\"sk-item\"><div class=\"sk-estimator sk-toggleable\"><input class=\"sk-toggleable__control sk-hidden--visually\" id=\"sk-estimator-id-2\" type=\"checkbox\" checked><label for=\"sk-estimator-id-2\" class=\"sk-toggleable__label sk-toggleable__label-arrow\">LinearRegression</label><div class=\"sk-toggleable__content\"><pre>LinearRegression()</pre></div></div></div></div></div>"
      ],
      "text/plain": [
       "LinearRegression()"
      ]
     },
     "execution_count": 153,
     "metadata": {},
     "output_type": "execute_result"
    }
   ],
   "source": [
    "regressor.fit(x_train, y_train)"
   ]
  },
  {
   "cell_type": "code",
   "execution_count": 154,
   "id": "94510346",
   "metadata": {},
   "outputs": [],
   "source": [
    "accuracy = regressor.score(x_test, y_test)"
   ]
  },
  {
   "cell_type": "code",
   "execution_count": 155,
   "id": "f3cd2dc7",
   "metadata": {},
   "outputs": [
    {
     "name": "stdout",
     "output_type": "stream",
     "text": [
      "0.9201586763516597\n"
     ]
    }
   ],
   "source": [
    "print(accuracy)"
   ]
  },
  {
   "cell_type": "code",
   "execution_count": 156,
   "id": "dc64488e",
   "metadata": {},
   "outputs": [],
   "source": [
    "prediction_set = regressor.predict(x_toPredict)"
   ]
  },
  {
   "cell_type": "code",
   "execution_count": 157,
   "id": "6c6d1d6d",
   "metadata": {},
   "outputs": [],
   "source": [
    "df['Prediction'] = np.nan"
   ]
  },
  {
   "cell_type": "code",
   "execution_count": 158,
   "id": "5ba1812b",
   "metadata": {},
   "outputs": [],
   "source": [
    "last_date = df.iloc[-1].name"
   ]
  },
  {
   "cell_type": "code",
   "execution_count": 159,
   "id": "767207fc",
   "metadata": {},
   "outputs": [],
   "source": [
    "last_date_time = last_date.timestamp()"
   ]
  },
  {
   "cell_type": "code",
   "execution_count": 160,
   "id": "bc1ec4f7",
   "metadata": {},
   "outputs": [],
   "source": [
    "one_day = 86400 # one day is 86400 second"
   ]
  },
  {
   "cell_type": "code",
   "execution_count": 161,
   "id": "2cef032a",
   "metadata": {},
   "outputs": [],
   "source": [
    "next_date_time = last_date_time + one_day"
   ]
  },
  {
   "cell_type": "code",
   "execution_count": 162,
   "id": "d7a89cdd",
   "metadata": {},
   "outputs": [],
   "source": [
    "for i in prediction_set:\n",
    "    next_date = datetime.datetime.fromtimestamp(next_date_time) #repeats prediction_set times\n",
    "    next_date_time += one_day #adds one day to each day\n",
    "    df.loc[next_date] = [np.nan for q in range(len(df.columns) - 1)] + [i] "
   ]
  },
  {
   "cell_type": "code",
   "execution_count": 163,
   "id": "2df1d7bc",
   "metadata": {},
   "outputs": [
    {
     "data": {
      "text/plain": [
       "<Axes: xlabel='Date'>"
      ]
     },
     "execution_count": 163,
     "metadata": {},
     "output_type": "execute_result"
    },
    {
     "data": {
      "image/png": "[encoded data removed]",
      "text/plain": [
       "<Figure size 640x480 with 1 Axes>"
      ]
     },
     "metadata": {},
     "output_type": "display_data"
    }
   ],
   "source": [
    "df['Last'].plot(color = 'b')"
   ]
  },
  {
   "cell_type": "code",
   "execution_count": 164,
   "id": "b5dcaa3f",
   "metadata": {},
   "outputs": [
    {
     "data": {
      "text/plain": [
       "<Axes: xlabel='Date'>"
      ]
     },
     "execution_count": 164,
     "metadata": {},
     "output_type": "execute_result"
    },
    {
     "data": {
      "image/png": "[encoded data removed]",
      "text/plain": [
       "<Figure size 640x480 with 1 Axes>"
      ]
     },
     "metadata": {},
     "output_type": "display_data"
    }
   ],
   "source": [
    "df['Prediction'].plot(color = 'r')"
   ]
  }
 ],
 "metadata": {
  "kernelspec": {
   "display_name": "Python 3 (ipykernel)",
   "language": "python",
   "name": "python3"
  },
  "language_info": {
   "codemirror_mode": {
    "name": "ipython",
    "version": 3
   },
   "file_extension": ".py",
   "mimetype": "text/x-python",
   "name": "python",
   "nbconvert_exporter": "python",
   "pygments_lexer": "ipython3",
   "version": "3.10.9"
  }
 },
 "nbformat": 4,
 "nbformat_minor": 5
}
